{
 "cells": [
  {
   "cell_type": "markdown",
   "source": [
    "# Игра угадай число"
   ],
   "metadata": {}
  },
  {
   "cell_type": "code",
   "execution_count": 11,
   "source": [
    "from game_v2 import score_game\n",
    "from game_v2 import random_predict"
   ],
   "outputs": [],
   "metadata": {}
  },
  {
   "cell_type": "markdown",
   "source": [
    "## Угадываем рандомно"
   ],
   "metadata": {}
  },
  {
   "cell_type": "code",
   "execution_count": 12,
   "source": [
    "score_game(random_predict)"
   ],
   "outputs": [
    {
     "output_type": "stream",
     "name": "stdout",
     "text": [
      "Ваш алгоритм угадывает число в среднем за:101 попыток\n"
     ]
    },
    {
     "output_type": "execute_result",
     "data": {
      "text/plain": [
       "101"
      ]
     },
     "metadata": {},
     "execution_count": 12
    }
   ],
   "metadata": {}
  },
  {
   "cell_type": "code",
   "execution_count": 13,
   "source": [
    "class App:\n",
    "    def __init__(self, num = 1):\n",
    "        self._secret_num = num\n",
    "\n",
    "\n",
    "    def __call__(self):\n",
    "        self.low_border = 0\n",
    "        self.high_border = 101\n",
    "        self.rec = 0\n",
    "        return self.iter()\n",
    "\n",
    "\n",
    "    def iter(self):\n",
    "        self.rec += 1\n",
    "\n",
    "        mid = 1+self.low_border + ((self.high_border - self.low_border)-2)//2\n",
    "\n",
    "        if self.check(mid) == 0:\n",
    "            return mid\n",
    "        else:\n",
    "            if self.check(mid) == 2:\n",
    "                self.high_border = mid\n",
    "            else:\n",
    "                self.low_border = mid  \n",
    "            return self.iter()\n",
    "\n",
    "\n",
    "    def check(self, num):\n",
    "        if num == self._secret_num:\n",
    "            return 0\n",
    "        elif num < self._secret_num:\n",
    "            return 1\n",
    "        else:\n",
    "            return 2\n",
    "\n",
    "\n",
    "def find(num, out=False):\n",
    "    app = App(num=num)\n",
    "    if out:\n",
    "        print(app())\n",
    "    else:\n",
    "        app()\n",
    "    return app.rec\n",
    "\n",
    "\n",
    "score_game(find)"
   ],
   "outputs": [
    {
     "output_type": "stream",
     "name": "stdout",
     "text": [
      "Ваш алгоритм угадывает число в среднем за:5 попыток\n"
     ]
    },
    {
     "output_type": "execute_result",
     "data": {
      "text/plain": [
       "5"
      ]
     },
     "metadata": {},
     "execution_count": 13
    }
   ],
   "metadata": {}
  }
 ],
 "metadata": {
  "orig_nbformat": 4,
  "language_info": {
   "name": "python",
   "version": "3.8.10",
   "mimetype": "text/x-python",
   "codemirror_mode": {
    "name": "ipython",
    "version": 3
   },
   "pygments_lexer": "ipython3",
   "nbconvert_exporter": "python",
   "file_extension": ".py"
  },
  "kernelspec": {
   "name": "python3",
   "display_name": "Python 3.8.10 64-bit"
  },
  "interpreter": {
   "hash": "916dbcbb3f70747c44a77c7bcd40155683ae19c65e1c03b4aa3499c5328201f1"
  }
 },
 "nbformat": 4,
 "nbformat_minor": 2
}